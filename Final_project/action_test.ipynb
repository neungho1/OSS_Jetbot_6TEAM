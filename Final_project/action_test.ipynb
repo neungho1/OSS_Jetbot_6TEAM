{
 "cells": [
  {
   "cell_type": "markdown",
   "metadata": {},
   "source": [
    "# def"
   ]
  },
  {
   "cell_type": "code",
   "execution_count": null,
   "metadata": {},
   "outputs": [],
   "source": [
    "from jetbot import Robot\n",
    "import time\n",
    "from RGB_Lib import Programing_RGB\n",
    "import threading\n",
    "from servoserial import ServoSerial\n",
    "import RPi.GPIO as GPIO"
   ]
  },
  {
   "cell_type": "code",
   "execution_count": null,
   "metadata": {},
   "outputs": [],
   "source": [
    "robot = Robot()\n",
    "RGB = Programing_RGB()\n",
    "servo_device = ServoSerial()"
   ]
  },
  {
   "cell_type": "code",
   "execution_count": 33,
   "metadata": {},
   "outputs": [],
   "source": [
    "def LED_blue():\n",
    " #   print(f\"{name}작업시작\")\n",
    "    for i in range(10):\n",
    "        \n",
    "        RGB.Set_All_RGB(0x00, 0x00, 0xFF)\n",
    "        time.sleep(0.6)\n",
    "    \n",
    "   #     print(f\"{name}작업 끝\")\n",
    "    \n",
    "def LED_red():\n",
    "  #  print(f\"{name}작업시작\")\n",
    "    \n",
    "    for i in range(10):\n",
    "        RGB.Set_All_RGB(0xFF, 0x00, 0x00)\n",
    "        time.sleep(0.6)\n",
    "        \n",
    "  #  print(f\"{name}작업 끝\")\n",
    "    \n",
    "\n",
    "def LED_twinkle():\n",
    " #   print(f\"{name}작업시작\")\n",
    "    for i in range(10):\n",
    "        \n",
    "        RGB.Set_BreathColor_RGB()\n",
    "        RGB.Set_BreathSSpeed_RGB(3)\n",
    "        RGB.Set_BreathSLight_RGB()\n",
    "  #  print(f\"{name}작업 끝\")    \n",
    "    \n",
    "\n",
    "\n",
    "    \n",
    "    \n",
    "RGB.OFF_ALL_RGB()    "
   ]
  },
  {
   "cell_type": "code",
   "execution_count": 34,
   "metadata": {},
   "outputs": [],
   "source": [
    "def search(): #4ways\n",
    "    \n",
    "        time.sleep(1.0)\n",
    "        servo_device.Servo_serial_control(2, 3000)\n",
    "        time.sleep(1.0)\n",
    "        servo_device.Servo_serial_control(2, 900)\n",
    "        time.sleep(1.0)\n",
    "        servo_device.Servo_serial_control(1, 2100)\n",
    "        time.sleep(1.0)\n",
    "        servo_device.Servo_serial_control(1, 3600)\n",
    "        time.sleep(1.0)\n",
    "        servo_device.Servo_serial_control(2, 2100)\n"
   ]
  },
  {
   "cell_type": "code",
   "execution_count": 59,
   "metadata": {},
   "outputs": [],
   "source": [
    "        \n",
    "    \n",
    "def twist():\n",
    "        robot.left(2.8)\n",
    "        time.sleep(1.0) \n",
    "        robot.stop()\n",
    "    "
   ]
  },
  {
   "cell_type": "code",
   "execution_count": 54,
   "metadata": {},
   "outputs": [],
   "source": [
    "def Beep_detect():\n",
    "    BEEP_pin = 6 \n",
    "\n",
    "    # Pin Setup:\n",
    "    # Board pin-numbering scheme\n",
    "    GPIO.setmode(GPIO.BCM)\n",
    "    # set pin as an output pin with optional initial state of HIGH\n",
    "    GPIO.setup(BEEP_pin, GPIO.OUT, initial=GPIO.LOW)\n",
    "\n",
    "    \n",
    "    for i in range(3):\n",
    "        GPIO.output(BEEP_pin, GPIO.HIGH)\n",
    "        time.sleep(0.4)\n",
    "        GPIO.output(BEEP_pin, GPIO.LOW)\n",
    "        time.sleep(0.1)\n",
    "    \n",
    "def Beep_sucess():\n",
    "    BEEP_pin = 6 \n",
    "\n",
    "    GPIO.setmode(GPIO.BCM)\n",
    "    # set pin as an output pin with optional initial state of HIGH\n",
    "    GPIO.setup(BEEP_pin, GPIO.OUT, initial=GPIO.LOW)\n",
    "    \n",
    "    for i in range(3):\n",
    "        GPIO.output(BEEP_pin, GPIO.HIGH)\n",
    "        time.sleep(0.1)\n",
    "        GPIO.output(BEEP_pin, GPIO.LOW)\n",
    "        time.sleep(0.1)\n",
    "    \n",
    "    \n",
    "    time.sleep(0.2)   \n",
    "\n",
    "\n",
    "    for i in range(3):\n",
    "        GPIO.output(BEEP_pin, GPIO.HIGH)\n",
    "        time.sleep(0.1)\n",
    "        GPIO.output(BEEP_pin, GPIO.LOW)\n",
    "        time.sleep(0.1)\n",
    "\n",
    "    time.sleep(0.2)  \n",
    "    \n",
    "    for i in range(7):\n",
    "        GPIO.output(BEEP_pin, GPIO.HIGH)\n",
    "        time.sleep(0.1)\n",
    "        GPIO.output(BEEP_pin, GPIO.LOW)\n",
    "        time.sleep(0.1)\n",
    "   \n"
   ]
  },
  {
   "cell_type": "markdown",
   "metadata": {},
   "source": [
    "# def main"
   ]
  },
  {
   "cell_type": "markdown",
   "metadata": {},
   "source": [
    "\n",
    "thr_1 = threading.Thread(target = LED, args=(35,0.1,'a'))\n",
    "thr_1.daemon = True\n",
    "thr_1.start()\n"
   ]
  },
  {
   "cell_type": "code",
   "execution_count": null,
   "metadata": {},
   "outputs": [],
   "source": [
    "def end():\n",
    "    BEEP_pin = 6 \n",
    "    \n",
    "    RGB.OFF_ALL_RGB()\n",
    "    robot.stop()\n",
    "    GPIO.output(BEEP_pin, GPIO.LOW)"
   ]
  },
  {
   "cell_type": "code",
   "execution_count": null,
   "metadata": {},
   "outputs": [],
   "source": [
    "def trace(category_index):\n",
    "    if category_index == 0:\n",
    "        robot.stop()\n",
    "        Beep_detect()\n",
    "        LED_red()\n",
    "        robot.forward(1.0)\n",
    "        time.sleep(0.5)\n",
    "        \n",
    "        robot.stop()\n",
    "        Beep_sucess()\n",
    "        twist()\n",
    "        LED_twinkle()\n",
    "        end()\n",
    "        return 0\n",
    "    return 1"
   ]
  },
  {
   "cell_type": "code",
   "execution_count": 72,
   "metadata": {},
   "outputs": [],
   "source": [
    "from utils import preprocess\n",
    "import torch.nn.functional as F\n",
    "def one(model,camera):\n",
    "    for i in  range(2):\n",
    "        LED_blue()\n",
    "        for  i in range(4):\n",
    "    \n",
    "            search()    \n",
    "            preprocessed = preprocess(camera.value)\n",
    "            output = model(preprocessed)\n",
    "            output = F.softmax(output, dim=1).detach().cpu().numpy().flatten()\n",
    "            category_index = output.argmax()\n",
    "            num = trace(category_index)\n",
    "            if num == 0:\n",
    "                break\n",
    "        \n",
    "            robot.left(0.7)\n",
    "            time.sleep(1.38)    \n",
    "            robot.stop()\n",
    "\n"
   ]
  },
  {
   "cell_type": "markdown",
   "metadata": {},
   "source": [
    "# Main"
   ]
  },
  {
   "cell_type": "code",
   "execution_count": null,
   "metadata": {},
   "outputs": [],
   "source": [
    "from config_for_baseline import *\n",
    "import torch\n",
    "import torchvision\n",
    "\n",
    "from jetbot import Camera, bgr8_to_jpeg\n",
    "import traitlets\n",
    "import ipywidgets.widgets as widgets\n",
    "from IPython.display import display\n",
    "import torch.nn.functional as F\n",
    "from utils import preprocess"
   ]
  },
  {
   "cell_type": "code",
   "execution_count": null,
   "metadata": {},
   "outputs": [],
   "source": [
    "camera = Camera.instance(width=224, height=224)\n",
    "\n",
    "image = widgets.Image(format='jpeg', width=224, height=224)  # this width and height doesn't necessarily have to match the camera\n",
    "\n",
    "camera_link = traitlets.dlink((camera, 'value'), (image, 'value'), transform=bgr8_to_jpeg)\n",
    "device = torch.device('cuda')"
   ]
  },
  {
   "cell_type": "code",
   "execution_count": null,
   "metadata": {},
   "outputs": [],
   "source": [
    "model = torchvision.models.resnet18(pretrained=True)\n",
    "model.fc = torch.nn.Linear(512,2)\n",
    "model = model.to(device)"
   ]
  },
  {
   "cell_type": "code",
   "execution_count": null,
   "metadata": {},
   "outputs": [],
   "source": [
    "model.load_state_dict(torch.load('my_model_Jetbot.pth'), strict=False)"
   ]
  },
  {
   "cell_type": "code",
   "execution_count": 76,
   "metadata": {},
   "outputs": [
    {
     "name": "stdout",
     "output_type": "stream",
     "text": [
      "162\n",
      "b'\\xff\\xff\\x01\\x07\\x03*\\x0e\\x10\\x00\\n\\xa2'\n",
      "176\n",
      "b'\\xff\\xff\\x02\\x07\\x03*\\x07\\x08\\x00\\n\\xb0'\n",
      "252\n",
      "b'\\xff\\xff\\x02\\x07\\x03*\\x0b\\xb8\\x00\\n\\xfc'\n",
      "166\n",
      "b'\\xff\\xff\\x02\\x07\\x03*\\x05\\x14\\x00\\n\\xa6'\n",
      "132\n",
      "b'\\xff\\xff\\x01\\x07\\x03*\\x084\\x00\\n\\x84'\n",
      "162\n",
      "b'\\xff\\xff\\x01\\x07\\x03*\\x0e\\x10\\x00\\n\\xa2'\n",
      "131\n",
      "b'\\xff\\xff\\x02\\x07\\x03*\\x084\\x00\\n\\x83'\n",
      "252\n",
      "b'\\xff\\xff\\x02\\x07\\x03*\\x0b\\xb8\\x00\\n\\xfc'\n",
      "166\n",
      "b'\\xff\\xff\\x02\\x07\\x03*\\x05\\x14\\x00\\n\\xa6'\n",
      "132\n",
      "b'\\xff\\xff\\x01\\x07\\x03*\\x084\\x00\\n\\x84'\n",
      "162\n",
      "b'\\xff\\xff\\x01\\x07\\x03*\\x0e\\x10\\x00\\n\\xa2'\n",
      "131\n",
      "b'\\xff\\xff\\x02\\x07\\x03*\\x084\\x00\\n\\x83'\n",
      "252\n",
      "b'\\xff\\xff\\x02\\x07\\x03*\\x0b\\xb8\\x00\\n\\xfc'\n",
      "166\n",
      "b'\\xff\\xff\\x02\\x07\\x03*\\x05\\x14\\x00\\n\\xa6'\n",
      "132\n",
      "b'\\xff\\xff\\x01\\x07\\x03*\\x084\\x00\\n\\x84'\n",
      "162\n",
      "b'\\xff\\xff\\x01\\x07\\x03*\\x0e\\x10\\x00\\n\\xa2'\n",
      "131\n",
      "b'\\xff\\xff\\x02\\x07\\x03*\\x084\\x00\\n\\x83'\n"
     ]
    }
   ],
   "source": [
    "detecions = [1,1,0,1]\n",
    "\n",
    "servo_device.Servo_serial_control(1, 3600)\n",
    "servo_device.Servo_serial_control(2, 1800)\n",
    "\n",
    "one(model,camera)\n",
    "RGB.OFF_ALL_RGB()"
   ]
  },
  {
   "cell_type": "code",
   "execution_count": 66,
   "metadata": {},
   "outputs": [],
   "source": [
    "end()"
   ]
  }
 ],
 "metadata": {
  "kernelspec": {
   "display_name": "Python 3",
   "language": "python",
   "name": "python3"
  },
  "language_info": {
   "codemirror_mode": {
    "name": "ipython",
    "version": 3
   },
   "file_extension": ".py",
   "mimetype": "text/x-python",
   "name": "python",
   "nbconvert_exporter": "python",
   "pygments_lexer": "ipython3",
   "version": "3.6.9"
  }
 },
 "nbformat": 4,
 "nbformat_minor": 4
}
