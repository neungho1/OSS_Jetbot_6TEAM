{
 "cells": [
  {
   "cell_type": "code",
   "execution_count": 20,
   "metadata": {},
   "outputs": [
    {
     "data": {
      "application/vnd.jupyter.widget-view+json": {
       "model_id": "addab733353045ddb07ef68d656a04f3",
       "version_major": 2,
       "version_minor": 0
      },
      "text/plain": [
       "Image(value=b'', format='jpeg', height='224', width='224')"
      ]
     },
     "metadata": {},
     "output_type": "display_data"
    },
    {
     "name": "stdin",
     "output_type": "stream",
     "text": [
      "전진 : w, 우회전 : d, 좌회전 : a, 후진: s, stop : x w\n"
     ]
    },
    {
     "name": "stdout",
     "output_type": "stream",
     "text": [
      "w Pressed ... \n"
     ]
    },
    {
     "name": "stdin",
     "output_type": "stream",
     "text": [
      "전진 : w, 우회전 : d, 좌회전 : a, 후진: s, stop : x d\n"
     ]
    },
    {
     "name": "stdout",
     "output_type": "stream",
     "text": [
      "d Pressed ... \n"
     ]
    },
    {
     "name": "stdin",
     "output_type": "stream",
     "text": [
      "전진 : w, 우회전 : d, 좌회전 : a, 후진: s, stop : x a\n"
     ]
    },
    {
     "name": "stdout",
     "output_type": "stream",
     "text": [
      "a Pressed ... \n"
     ]
    },
    {
     "name": "stdin",
     "output_type": "stream",
     "text": [
      "전진 : w, 우회전 : d, 좌회전 : a, 후진: s, stop : x s\n"
     ]
    },
    {
     "name": "stdout",
     "output_type": "stream",
     "text": [
      "s Pressed ... \n"
     ]
    },
    {
     "name": "stdin",
     "output_type": "stream",
     "text": [
      "전진 : w, 우회전 : d, 좌회전 : a, 후진: s, stop : x s\n"
     ]
    },
    {
     "name": "stdout",
     "output_type": "stream",
     "text": [
      "s Pressed ... \n"
     ]
    },
    {
     "name": "stdin",
     "output_type": "stream",
     "text": [
      "전진 : w, 우회전 : d, 좌회전 : a, 후진: s, stop : x d\n"
     ]
    },
    {
     "name": "stdout",
     "output_type": "stream",
     "text": [
      "d Pressed ... \n"
     ]
    },
    {
     "name": "stdin",
     "output_type": "stream",
     "text": [
      "전진 : w, 우회전 : d, 좌회전 : a, 후진: s, stop : x a\n"
     ]
    },
    {
     "name": "stdout",
     "output_type": "stream",
     "text": [
      "a Pressed ... \n"
     ]
    },
    {
     "name": "stdin",
     "output_type": "stream",
     "text": [
      "전진 : w, 우회전 : d, 좌회전 : a, 후진: s, stop : x a\n"
     ]
    },
    {
     "name": "stdout",
     "output_type": "stream",
     "text": [
      "a Pressed ... \n"
     ]
    },
    {
     "name": "stdin",
     "output_type": "stream",
     "text": [
      "전진 : w, 우회전 : d, 좌회전 : a, 후진: s, stop : x d\n"
     ]
    },
    {
     "name": "stdout",
     "output_type": "stream",
     "text": [
      "d Pressed ... \n"
     ]
    },
    {
     "name": "stdin",
     "output_type": "stream",
     "text": [
      "전진 : w, 우회전 : d, 좌회전 : a, 후진: s, stop : x a\n"
     ]
    },
    {
     "name": "stdout",
     "output_type": "stream",
     "text": [
      "a Pressed ... \n"
     ]
    },
    {
     "name": "stdin",
     "output_type": "stream",
     "text": [
      "전진 : w, 우회전 : d, 좌회전 : a, 후진: s, stop : x w\n"
     ]
    },
    {
     "name": "stdout",
     "output_type": "stream",
     "text": [
      "w Pressed ... \n"
     ]
    },
    {
     "name": "stdin",
     "output_type": "stream",
     "text": [
      "전진 : w, 우회전 : d, 좌회전 : a, 후진: s, stop : x w\n"
     ]
    },
    {
     "name": "stdout",
     "output_type": "stream",
     "text": [
      "w Pressed ... \n"
     ]
    },
    {
     "name": "stdin",
     "output_type": "stream",
     "text": [
      "전진 : w, 우회전 : d, 좌회전 : a, 후진: s, stop : x d\n"
     ]
    },
    {
     "name": "stdout",
     "output_type": "stream",
     "text": [
      "d Pressed ... \n"
     ]
    },
    {
     "name": "stdin",
     "output_type": "stream",
     "text": [
      "전진 : w, 우회전 : d, 좌회전 : a, 후진: s, stop : x a\n"
     ]
    },
    {
     "name": "stdout",
     "output_type": "stream",
     "text": [
      "a Pressed ... \n"
     ]
    },
    {
     "name": "stdin",
     "output_type": "stream",
     "text": [
      "전진 : w, 우회전 : d, 좌회전 : a, 후진: s, stop : x a\n"
     ]
    },
    {
     "name": "stdout",
     "output_type": "stream",
     "text": [
      "a Pressed ... \n"
     ]
    },
    {
     "name": "stdin",
     "output_type": "stream",
     "text": [
      "전진 : w, 우회전 : d, 좌회전 : a, 후진: s, stop : x s\n"
     ]
    },
    {
     "name": "stdout",
     "output_type": "stream",
     "text": [
      "s Pressed ... \n"
     ]
    },
    {
     "name": "stdin",
     "output_type": "stream",
     "text": [
      "전진 : w, 우회전 : d, 좌회전 : a, 후진: s, stop : x x\n"
     ]
    },
    {
     "name": "stdout",
     "output_type": "stream",
     "text": [
      "x Pressed ... \n"
     ]
    }
   ],
   "source": [
    "from jetbot import camera\n",
    "import ipywidgets.widgets as widgets\n",
    "from IPython.display import display\n",
    "import traitlets\n",
    "from jetbot import bgr8_to_jpeg\n",
    "from RGB_Lib import Programing_RGB\n",
    "import time\n",
    "\n",
    "from jetbot import Robot\n",
    "import time \n",
    "robot = Robot()\n",
    "\n",
    "\n",
    "RGB = Programing_RGB()\n",
    "\n",
    "try:\n",
    "    camera = Camera.instance(width=224, height=224)\n",
    "    image = widgets.Image(format = 'jpeg',width=224, height=224)\n",
    "    display(image)\n",
    "    camera_link = traitlets.dlink((camera,'value'),(image,'value'), transform = bgr8_to_jpeg)\n",
    "    \n",
    "    RGB.Set_An_RGB(0, 0xFF, 0xFF, 0xFF)  #White\n",
    "    time.sleep(0.5)\n",
    "    \n",
    "    RGB.Set_All_RGB(0xFF, 0x00, 0x00)   #Red\n",
    "    time.sleep(0.5)\n",
    "    \n",
    "    RGB.Set_All_RGB(0x00, 0xFF, 0x00)  # Blue\n",
    "    time.sleep(0.5)\n",
    "    \n",
    "    RGB.Set_All_RGB(0x00, 0x00, 0xFF)  # Green\n",
    "    time.sleep(0.5)\n",
    "    \n",
    "    def step_forward(change):\n",
    "        robot.forward(0.8)\n",
    "        time.sleep(0.5)\n",
    "        robot.stop()\n",
    "    \n",
    "    \n",
    "    def step_backward(change):\n",
    "        robot.backward(0.8)\n",
    "        time.sleep(0.5)\n",
    "        robot.stop()\n",
    "        \n",
    "    def step_left(change):\n",
    "        robot.left(0.8)\n",
    "        time.sleep(0.5)\n",
    "        robot.stop()\n",
    "    \n",
    "    def step_right(change):\n",
    "        robot.right(0.8)\n",
    "        time.sleep(0.5)\n",
    "        robot.stop()\n",
    "    \n",
    "                    \n",
    "    while True:\n",
    "        key = input(f'전진 : w, 우회전 : d, 좌회전 : a, 후진: s, stop : x')\n",
    "        key = key.lower()\n",
    "        print(f'{key} Pressed ... ')\n",
    "    \n",
    "        if key == \"w\":\n",
    "            step_forward(2)\n",
    "        elif key == \"a\":\n",
    "            step_left(2)\n",
    "        elif key == \"d\":\n",
    "            step_right(2)\n",
    "        elif key == \"s\":\n",
    "            step_backward(2)\n",
    "        elif key == \"x\":\n",
    "            break\n",
    "            \n",
    "        \n",
    "except:\n",
    "    RGB.OFF_ALL_RGB()"
   ]
  },
  {
   "cell_type": "code",
   "execution_count": null,
   "metadata": {},
   "outputs": [],
   "source": []
  }
 ],
 "metadata": {
  "kernelspec": {
   "display_name": "Python 3",
   "language": "python",
   "name": "python3"
  },
  "language_info": {
   "codemirror_mode": {
    "name": "ipython",
    "version": 3
   },
   "file_extension": ".py",
   "mimetype": "text/x-python",
   "name": "python",
   "nbconvert_exporter": "python",
   "pygments_lexer": "ipython3",
   "version": "3.6.9"
  }
 },
 "nbformat": 4,
 "nbformat_minor": 4
}
