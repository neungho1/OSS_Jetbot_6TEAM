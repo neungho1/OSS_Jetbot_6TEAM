{
 "cells": [
  {
   "cell_type": "code",
   "execution_count": null,
   "metadata": {},
   "outputs": [],
   "source": [
    "import threading\n",
    "import time\n",
    "\n",
    "def fun(n,speed,name):\n",
    "    print(f\"{name}작업시작\")\n",
    "    for i in range(n):\n",
    "        print(f\"{name}작업 {i+1}번\")\n",
    "        time.sleep(speed)\n",
    "    print(f\"{name}작업 끝\")\n",
    "\n",
    "thr_1 = threading.Thread(target = fun, args=(5,0.1,'a'))\n",
    "thr_1.daemon = True\n",
    "thr_1.start()\n",
    "\n",
    "thr_2 = threading.Thread(target = fun, args=(10,0.1,'b'))\n",
    "thr_2.daemon = True\n",
    "thr_2.start()\n",
    "\n",
    "fun(3,0.1,'c')"
   ]
  },
  {
   "cell_type": "code",
   "execution_count": null,
   "metadata": {},
   "outputs": [],
   "source": [
    "from jetbot import Robot\n",
    "robot = Robot()\n",
    "import time"
   ]
  },
  {
   "cell_type": "code",
   "execution_count": null,
   "metadata": {},
   "outputs": [],
   "source": [
    "for i in range(5):\n",
    "    RGB.Set_All_RGB(0x00, 0x00, 0xFF)\n",
    "    time.sleep(0.6)\n",
    "    RGB.Set_All_RGB(0xFF, 0x00, 0x00)\n",
    "    time.sleep(0.6)\n",
    "    \n",
    "\n",
    "time.sleep(1.0)\n",
    "servo_device.Servo_serial_control(2, 3000)\n",
    "time.sleep(1.0)\n",
    "servo_device.Servo_serial_control(2, 900)\n",
    "time.sleep(1.0)\n",
    "servo_device.Servo_serial_control(2, 3000)\n",
    "time.sleep(1.0)\n",
    "servo_device.Servo_serial_control(2, 1800)\n",
    "\n",
    "\n",
    "robot.up(1)\n",
    "time.sleep(3)\n",
    "robot.vertical_motors_stop()\n",
    "\n",
    "\n",
    "\n",
    "robot.down(1)\n",
    "time.sleep(2.0)\n",
    "robot.vertical_motors_stop()\n",
    "\n",
    "\n",
    "robot.left(0.7)\n",
    "time.sleep(1.38)\n",
    "robot.stop()"
   ]
  },
  {
   "cell_type": "code",
   "execution_count": null,
   "metadata": {},
   "outputs": [],
   "source": [
    "from RGB_Lib import Programing_RGB\n",
    "import time\n",
    "RGB = Programing_RGB()\n",
    "for i in range(5):\n",
    "    RGB.Set_All_RGB(0x00, 0x00, 0xFF)\n",
    "    time.sleep(0.6)\n",
    "    RGB.Set_All_RGB(0xFF, 0x00, 0x00)\n",
    "    time.sleep(0.6)"
   ]
  },
  {
   "cell_type": "code",
   "execution_count": null,
   "metadata": {},
   "outputs": [],
   "source": [
    "def fun2(n,speed,name):\n",
    "     \n",
    "    arr = [3000,900,3000,1800]\n",
    "    for j in range(n):\n",
    "        num = arr[j]\n",
    "        time.sleep(1.0)\n",
    "        servo_device.Servo_serial_control(2, num)\n",
    "        \n",
    "thr_2 = threading.Thread(target = fun2, args=(10,0.1,'b'))\n",
    "thr_2.daemon = True\n",
    "thr_2.start()\n",
    "fun(3,0.1,'c')"
   ]
  }
 ],
 "metadata": {
  "kernelspec": {
   "display_name": "Python 3",
   "language": "python",
   "name": "python3"
  },
  "language_info": {
   "codemirror_mode": {
    "name": "ipython",
    "version": 3
   },
   "file_extension": ".py",
   "mimetype": "text/x-python",
   "name": "python",
   "nbconvert_exporter": "python",
   "pygments_lexer": "ipython3",
   "version": "3.6.9"
  }
 },
 "nbformat": 4,
 "nbformat_minor": 4
}
