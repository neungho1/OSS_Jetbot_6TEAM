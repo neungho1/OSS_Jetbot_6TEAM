{
 "cells": [
  {
   "cell_type": "code",
   "execution_count": null,
   "metadata": {},
   "outputs": [],
   "source": [
    "camera = Camera.instance(width=224, height=224)\n",
    "image = widgets.Image(format = 'jpeg',width=224, height=224)\n",
    "display(image)\n",
    "camera_link = traitlets.dlink(camera,'value'),(image,'value'), transform = bgr8_to_jpeg"
   ]
  },
  {
   "cell_type": "code",
   "execution_count": null,
   "metadata": {},
   "outputs": [],
   "source": [
    "while True:\n",
    "    key = input(f\"전진: w, 우회전 : d, 좌회전 : a, 후진 : s\")\n",
    "    key = key.lower()\n",
    "    print(f\"{key} Pressed ... \")\n",
    "    \n",
    "    if key == \"w\":\n",
    "        RGB.Set_WaterfallLight_RGB()\n",
    "    elif key == \"a\":\n",
    "        RGB.Set_ChamleonLight_RGB()\n",
    "    elif key == \"d\":;\n",
    "        RGB.Set_BreathLight_RGB()\n",
    "    elif key == \"s\":\n",
    "        RGB.OFF_ALL_RGB()\n",
    "except:\n",
    "    RGB.OFF_ALL_RGB()"
   ]
  }
 ],
 "metadata": {
  "kernelspec": {
   "display_name": "Python 3",
   "language": "python",
   "name": "python3"
  },
  "language_info": {
   "codemirror_mode": {
    "name": "ipython",
    "version": 3
   },
   "file_extension": ".py",
   "mimetype": "text/x-python",
   "name": "python",
   "nbconvert_exporter": "python",
   "pygments_lexer": "ipython3",
   "version": "3.6.9"
  }
 },
 "nbformat": 4,
 "nbformat_minor": 4
}
