{
 "cells": [
  {
   "cell_type": "markdown",
   "metadata": {},
   "source": [
    "# mini_project"
   ]
  },
  {
   "cell_type": "markdown",
   "metadata": {},
   "source": [
    "LED_RGB"
   ]
  },
  {
   "cell_type": "code",
   "execution_count": 13,
   "metadata": {},
   "outputs": [],
   "source": [
    "from RGB_Lib import Programing_RGB\n",
    "import time\n",
    "RGB = Programing_RGB()"
   ]
  },
  {
   "cell_type": "code",
   "execution_count": 14,
   "metadata": {},
   "outputs": [],
   "source": [
    "BLUE = RGB.Set_All_RGB(0x00, 0x00, 0xFF)"
   ]
  },
  {
   "cell_type": "code",
   "execution_count": 15,
   "metadata": {},
   "outputs": [],
   "source": [
    "RED = RGB.Set_All_RGB(0xFF, 0x00, 0x00)"
   ]
  },
  {
   "cell_type": "code",
   "execution_count": 51,
   "metadata": {},
   "outputs": [],
   "source": [
    "for i in range(5):\n",
    "    RGB.Set_All_RGB(0x00, 0x00, 0xFF)\n",
    "    time.sleep(0.6)\n",
    "    RGB.Set_All_RGB(0xFF, 0x00, 0x00)\n",
    "    time.sleep(0.6)\n",
    "    \n",
    "RGB.OFF_ALL_RGB()    "
   ]
  },
  {
   "cell_type": "markdown",
   "metadata": {},
   "source": [
    "## sub_motor"
   ]
  },
  {
   "cell_type": "code",
   "execution_count": 52,
   "metadata": {},
   "outputs": [
    {
     "name": "stdout",
     "output_type": "stream",
     "text": [
      "serial Open!\n",
      "serial Close!\n"
     ]
    }
   ],
   "source": [
    "from servoserial import ServoSerial\n",
    "import time\n",
    "servo_device = ServoSerial() "
   ]
  },
  {
   "cell_type": "markdown",
   "metadata": {},
   "source": [
    "##dd"
   ]
  },
  {
   "cell_type": "code",
   "execution_count": 53,
   "metadata": {},
   "outputs": [
    {
     "name": "stdout",
     "output_type": "stream",
     "text": [
      "162\n",
      "b'\\xff\\xff\\x01\\x07\\x03*\\x0e\\x10\\x00\\n\\xa2'\n",
      "176\n",
      "b'\\xff\\xff\\x02\\x07\\x03*\\x07\\x08\\x00\\n\\xb0'\n"
     ]
    }
   ],
   "source": [
    "# Center position\n",
    "servo_device.Servo_serial_control(1, 3600)\n",
    "time.sleep(0.1)\n",
    "servo_device.Servo_serial_control(2, 1800)"
   ]
  },
  {
   "cell_type": "code",
   "execution_count": 54,
   "metadata": {},
   "outputs": [
    {
     "name": "stdout",
     "output_type": "stream",
     "text": [
      "166\n",
      "b'\\xff\\xff\\x02\\x07\\x03*\\x05\\x14\\x00\\n\\xa6'\n",
      "252\n",
      "b'\\xff\\xff\\x02\\x07\\x03*\\x0b\\xb8\\x00\\n\\xfc'\n",
      "166\n",
      "b'\\xff\\xff\\x02\\x07\\x03*\\x05\\x14\\x00\\n\\xa6'\n",
      "252\n",
      "b'\\xff\\xff\\x02\\x07\\x03*\\x0b\\xb8\\x00\\n\\xfc'\n",
      "176\n",
      "b'\\xff\\xff\\x02\\x07\\x03*\\x07\\x08\\x00\\n\\xb0'\n"
     ]
    }
   ],
   "source": [
    "# Water position\n",
    "servo_device.Servo_serial_control(2, 900)\n",
    "time.sleep(1.0)\n",
    "servo_device.Servo_serial_control(2, 3000)\n",
    "time.sleep(1.0)\n",
    "servo_device.Servo_serial_control(2, 900)\n",
    "time.sleep(1.0)\n",
    "servo_device.Servo_serial_control(2, 3000)\n",
    "time.sleep(1.0)\n",
    "servo_device.Servo_serial_control(2, 1800)"
   ]
  },
  {
   "cell_type": "markdown",
   "metadata": {},
   "source": [
    "## Camera plaform motor"
   ]
  },
  {
   "cell_type": "code",
   "execution_count": null,
   "metadata": {},
   "outputs": [],
   "source": [
    "# motor up\n",
    "\n",
    "robot.up(1)\n",
    "time.sleep(3)\n",
    "robot.vertical_motors_stop()"
   ]
  },
  {
   "cell_type": "code",
   "execution_count": null,
   "metadata": {},
   "outputs": [],
   "source": [
    "# motor down\n",
    "\n",
    "robot.down(1)\n",
    "time.sleep(2.0)\n",
    "robot.vertical_motors_stop()\n"
   ]
  },
  {
   "cell_type": "markdown",
   "metadata": {},
   "source": [
    "## Twist"
   ]
  },
  {
   "cell_type": "code",
   "execution_count": 61,
   "metadata": {},
   "outputs": [],
   "source": [
    "from jetbot import Robot\n",
    "robot = Robot()\n",
    "import time\n",
    " \n",
    "\n"
   ]
  },
  {
   "cell_type": "code",
   "execution_count": 75,
   "metadata": {},
   "outputs": [],
   "source": [
    "robot.left(0.7)\n",
    "time.sleep(1.38)\n",
    "robot.stop()"
   ]
  },
  {
   "cell_type": "markdown",
   "metadata": {},
   "source": [
    "## Combination"
   ]
  },
  {
   "cell_type": "code",
   "execution_count": null,
   "metadata": {},
   "outputs": [],
   "source": [
    "for i in range(5):\n",
    "    RGB.Set_All_RGB(0x00, 0x00, 0xFF)\n",
    "    time.sleep(0.6)\n",
    "    RGB.Set_All_RGB(0xFF, 0x00, 0x00)\n",
    "    time.sleep(0.6)\n",
    "    \n",
    "\n",
    "time.sleep(1.0)\n",
    "servo_device.Servo_serial_control(2, 3000)\n",
    "time.sleep(1.0)\n",
    "servo_device.Servo_serial_control(2, 900)\n",
    "time.sleep(1.0)\n",
    "servo_device.Servo_serial_control(2, 3000)\n",
    "time.sleep(1.0)\n",
    "servo_device.Servo_serial_control(2, 1800)\n",
    "\n",
    "\n",
    "robot.up(1)\n",
    "time.sleep(3)\n",
    "robot.vertical_motors_stop()\n",
    "\n",
    "\n",
    "\n",
    "robot.down(1)\n",
    "time.sleep(2.0)\n",
    "robot.vertical_motors_stop()\n",
    "\n",
    "\n",
    "robot.left(0.7)\n",
    "time.sleep(1.38)\n",
    "robot.stop()"
   ]
  }
 ],
 "metadata": {
  "kernelspec": {
   "display_name": "Python 3",
   "language": "python",
   "name": "python3"
  },
  "language_info": {
   "codemirror_mode": {
    "name": "ipython",
    "version": 3
   },
   "file_extension": ".py",
   "mimetype": "text/x-python",
   "name": "python",
   "nbconvert_exporter": "python",
   "pygments_lexer": "ipython3",
   "version": "3.6.9"
  }
 },
 "nbformat": 4,
 "nbformat_minor": 4
}
